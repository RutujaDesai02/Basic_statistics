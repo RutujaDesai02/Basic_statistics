{
 "cells": [
  {
   "cell_type": "markdown",
   "id": "b2927585",
   "metadata": {},
   "source": [
    "# Q1. Identify Datatype\n",
    "1. Number of beatings from Wife- Discrete\n",
    "2. Results of rolling a dice- Discrete\n",
    "3. Weight of a person- Continous\n",
    "4. Weight of Gold - Continous\n",
    "5. Distance between two places- continous\n",
    "6. Length of a leaf- continous\n",
    "7. Dog's weight- continous\n",
    "8. Blue Color- \n",
    "9. Number of kids- Discrete\n",
    "10. Number of tickets in Indian railways - Discrete\n",
    "11. Number of times married - Discrete\n",
    "12. Gender (Male or Female)- "
   ]
  },
  {
   "cell_type": "markdown",
   "id": "84805489",
   "metadata": {},
   "source": [
    "# Q2) Identify the Data types, which were among the following\n",
    "Nominal, Ordinal, Interval, Ratio.\n",
    "\n",
    "1. Gender-\tNominal\n",
    "2. High School Class Ranking-\tOrdinal\n",
    "3. Celsius Temperature-\tInterval\n",
    "4. Weight-\tOrdinal\n",
    "5. Hair Color-\tNominal\n",
    "6. Socioeconomic Status- Nominal\n",
    "7. Fahrenheit Temperature-\tInterval\n",
    "8. Height-\tOrdinal\n",
    "9. Type of living accommodation- Ordinal\n",
    "10. Level of Agreement-\tOrdinal\n",
    "11. IQ(Intelligence Scale)-\tNominal\n",
    "12. Sales Figures-\tRatio\n",
    "13. Blood Group-\tNominal\n",
    "14. Time Of Day-\tInterval\n",
    "15. Time on a Clock with Hands-\tInterval\n",
    "16. Number of Children-\tNominal\n",
    "17. Religious Preference-\tNominal\n",
    "18. Barometer Pressure-\tInterval\n",
    "19. SAT Scores-\tOrdinal\n",
    "20. Years of Education-\tInterval\n"
   ]
  },
  {
   "cell_type": "markdown",
   "id": "3d8aa9bc",
   "metadata": {},
   "source": [
    "# Q3) Three Coins are tossed, find the probability that two heads and one tail are obtained?\n",
    "Ans: \n",
    "    When three coins are tossed, there are 8 possible outcomes since each coin can either land heads (H) or tails (T). The possible outcomes are: HHH,HHT,HTH,HTT,THH,THT,TTH,TTT\n",
    "Out of these, the outcomes with two heads and one tail are: HHT,HTH,THH\n",
    "So probability of getting two heads and one tail=no. favourable outcomes/ no. of total outcomes = 3/8\n"
   ]
  },
  {
   "cell_type": "markdown",
   "id": "0f7d1652",
   "metadata": {},
   "source": [
    "# Q4)  Two Dice are rolled, find the probability that sum is\n",
    "a)\tEqual to 1\n",
    "Ans: 0 \n",
    "         Because will not get sum 1 after rolling two dice at a time.\n",
    "b)\tLess than or equal to 4\n",
    "Ans:  Total possible outcomes = 36\n",
    "               The possible outcomes with a sum less than or equal to 4 are:\n",
    "\t      Sum = 2: (1, 1), Sum = 3: (1, 2), (2, 1), Sum = 4: (1, 3), (2, 2), (3, 1)\t\n",
    "                      Probability that sum is less than or equal to 4= 6/36 = 1/6\n",
    "c)\tSum is divisible by 2 and 3\n",
    "Ans: Total possible outcomes = 36\n",
    "         Favorable outcomes are: (1, 5),(2, 4),(3, 3),(4, 2),(5, 1), (6, 6)\n",
    "         Probability that sum is divisible by 2 and 3= 6/36 = 1/6\n"
   ]
  },
  {
   "cell_type": "markdown",
   "id": "bdd51722",
   "metadata": {},
   "source": [
    "# Q5)  A bag contains 2 red, 3 green and 2 blue balls. Two balls are drawn at random. What is the probability that none of the balls drawn is blue?"
   ]
  },
  {
   "cell_type": "code",
   "execution_count": 71,
   "id": "a227b269",
   "metadata": {},
   "outputs": [
    {
     "name": "stdout",
     "output_type": "stream",
     "text": [
      "The probability that none of the balls drawn is blue is: 0.4762\n"
     ]
    }
   ],
   "source": [
    "\"\"\"\n",
    "Total number of balls = 2 (red) + 3 (green) + 2 (blue) = 7 balls\n",
    "Number of ways to choose 2 balls out of 7 (without replacement) = C(7,2), where C(n, k) is the binomial coefficient, \n",
    "also known as \"n choose k.\"\n",
    "C(7,2) = 21\n",
    "\n",
    "Now, to find the number of ways to choose 2 balls without getting any blue balls, we need to choose both balls from the \n",
    "non-blue balls (red and green). So, we choose 2 balls out of 5 (2 red + 3 green).\n",
    "C(5,2) = 10\n",
    "\n",
    "The probability of not drawing any blue ball is the number of ways to choose 2 non-blue balls divided by the total number of ways to choose 2 balls:\n",
    "\n",
    "P(text{None of the balls drawn is blue}) =C(5,2)/C(7,2) = 10/21 = 0.4762\n",
    "\"\"\""
   ]
  },
  {
   "cell_type": "code",
   "execution_count": 3,
   "id": "4858d6e0",
   "metadata": {},
   "outputs": [
    {
     "data": {
      "text/plain": [
       "3.1550000000000002"
      ]
     },
     "execution_count": 3,
     "metadata": {},
     "output_type": "execute_result"
    }
   ],
   "source": [
    "# Q6) Calculate the Expected number of candies for a randomly selected child \n",
    "\"\"\"\n",
    "Below are the probabilities of count of candies for children (ignoring the nature of the child-Generalized view)\n",
    "CHILD\tCandies count\tProbability\n",
    "A\t1\t0.015\n",
    "B\t4\t0.20\n",
    "C\t3\t0.65\n",
    "D\t5\t0.005\n",
    "E\t6\t0.01\n",
    "F\t2\t0.120\n",
    "Child A - probability of having 1 candy = 0.015.\n",
    "Child B - probability of having 4 candies = 0.20\n",
    "\"\"\"\n",
    "\n",
    "Exp_value =(1*0.015)+(2*0.20)+(3*0.65)+(4*0.005)+(5*0.01)+(6*0.120) \n",
    "Exp_value                  \n"
   ]
  },
  {
   "cell_type": "code",
   "execution_count": 40,
   "id": "0c4c32cd",
   "metadata": {},
   "outputs": [
    {
     "name": "stdout",
     "output_type": "stream",
     "text": [
      "mean of points 3.5965625000000006\n",
      "median of points 3.6950000000000003\n",
      "mode of points 3.92\n",
      "variance of points 0.28588135080645166\n",
      "sd of points 0.5346787360709716\n",
      "range of points (2.76, 4.93)\n",
      "mean of Score 3.2172499999999995\n",
      "median of Score 3.325\n",
      "mode of Score 3.44\n",
      "variance of Score 0.9573789677419356\n",
      "sd of Score 0.9784574429896967\n",
      "range of Score (1.513, 5.424)\n",
      "mean of Weigh 17.848750000000003\n",
      "median of Weigh 17.71\n",
      "mode of Weigh 17.02\n",
      "variance of Weigh 3.193166129032258\n",
      "sd of Weigh 1.7869432360968431\n",
      "range of Weigh (14.5, 22.9)\n"
     ]
    }
   ],
   "source": [
    "\"\"\"Q7) Calculate Mean, Median, Mode, Variance, Standard Deviation, Range &     \n",
    "comment about the values / draw inferences, for the given dataset\n",
    "For Points,Score,Weigh\n",
    "Find Mean, Median, Mode, Variance, Standard Deviation, and Range \n",
    "and also Comment about the values/ Draw some inferences\n",
    "Use Q7.csv file \n",
    "\"\"\"\n",
    "\n",
    "import pandas as pd\n",
    "import numpy as np\n",
    "from scipy import stats\n",
    "from statistics import mode\n",
    "\n",
    "data=pd.read_csv(r'D:\\ExcelR\\Data science\\Assignments\\Assignment1\\Q7.csv')\n",
    "data\n",
    "\n",
    "\n",
    "\n",
    "mean_points=data['Points'].mean()\n",
    "print('mean of points',mean_points)\n",
    "median_points=data['Points'].median()\n",
    "print('median of points',median_points)\n",
    "mode_points=mode(data['Points'])\n",
    "print('mode of points',mode_points)\n",
    "var_points=data['Points'].var()\n",
    "print('variance of points',var_points)\n",
    "sd_points=data['Points'].std()\n",
    "print('sd of points',sd_points)\n",
    "Range_points=(min(data['Points']),max(data['Points']))\n",
    "print('range of points',Range_points)\n",
    "\n",
    "mean_Score=data['Score'].mean()\n",
    "print('mean of Score',mean_Score)\n",
    "median_Score=data['Score'].median()\n",
    "print('median of Score',median_Score)\n",
    "mode_Score=mode(data['Score'])\n",
    "print('mode of Score',mode_Score)\n",
    "var_Score=data['Score'].var()\n",
    "print('variance of Score',var_Score)\n",
    "sd_Score=data['Score'].std()\n",
    "print('sd of Score',sd_Score)\n",
    "Range_Score=(min(data['Score']),max(data['Score']))\n",
    "print('range of Score',Range_Score)\n",
    "\n",
    "\n",
    "mean_Weigh=data['Weigh'].mean()\n",
    "print('mean of Weigh',mean_Weigh)\n",
    "median_Weigh=data['Weigh'].median()\n",
    "print('median of Weigh',median_Weigh)\n",
    "mode_Weigh=mode(data['Weigh'])\n",
    "print('mode of Weigh',mode_Weigh)\n",
    "var_Weigh=data['Weigh'].var()\n",
    "print('variance of Weigh',var_Weigh)\n",
    "sd_Weigh=data['Weigh'].std()\n",
    "print('sd of Weigh',sd_Weigh)\n",
    "Range_Weigh=(min(data['Weigh']),max(data['Weigh']))\n",
    "print('range of Weigh',Range_Weigh)\n",
    "\n",
    "\n",
    "'''\n",
    "Inference :\n",
    "          Mean and median are approx.equal for point, score and weigh , hence we can say that they are normally distributed. \n",
    "'''\n"
   ]
  },
  {
   "cell_type": "code",
   "execution_count": 46,
   "id": "a92ed393",
   "metadata": {},
   "outputs": [
    {
     "data": {
      "text/plain": [
       "145.33333333333334"
      ]
     },
     "execution_count": 46,
     "metadata": {},
     "output_type": "execute_result"
    }
   ],
   "source": [
    "\"\"\"\n",
    "Q8) Calculate Expected Value for the problem below\n",
    "a)\tThe weights (X) of patients at a clinic (in pounds), are\n",
    "108, 110, 123, 134, 135, 145, 167, 187, 199\n",
    "Assume one of the patients is chosen at random. What is the Expected Value of the Weight of that patient?\n",
    "\"\"\"\n",
    "X=(108, 110, 123, 134, 135, 145, 167, 187, 199)\n",
    "Exp_value=sum(X)/9\n",
    "Exp_value\n",
    "         \n",
    "#Expected Value of the Weight of that patient = 145.34 pound\n"
   ]
  },
  {
   "cell_type": "code",
   "execution_count": 49,
   "id": "cf7d44b2",
   "metadata": {},
   "outputs": [
    {
     "name": "stdout",
     "output_type": "stream",
     "text": [
      "skewness_speed -0.11750986144663393\n",
      "kurtosis_speed -0.5089944204057617\n",
      "skewness_dist 0.8068949601674215\n",
      "kurtosis_dist 0.4050525816795765\n"
     ]
    }
   ],
   "source": [
    "\"\"\"\n",
    "Q9) Calculate Skewness, Kurtosis & draw inferences on the following data\n",
    "      Cars speed and distance \n",
    "Use Q9_a.csv\n",
    "\n",
    "\"\"\"\n",
    "data1=pd.read_csv(r'D:\\ExcelR\\Data science\\Assignments\\Assignment1\\Q9_a.csv')\n",
    "data1\n",
    "\n",
    "skewness_speed=data1['speed'].skew()\n",
    "print('skewness_speed',skewness_speed)\n",
    "kurtosis_speed=data1['speed'].kurtosis()\n",
    "print('kurtosis_speed',kurtosis_speed)\n",
    "\n",
    "\n",
    "skewness_dist=data1['dist'].skew()\n",
    "print('skewness_dist',skewness_dist)\n",
    "kurtosis_dist=data1['dist'].kurtosis()\n",
    "print('kurtosis_dist',kurtosis_dist)\n",
    "\n",
    "#Speed are moderately skewed and distance is highly skewed.\n",
    "#Kurtosis value for speed is -0.509 which suggests moderate flatness but not extremely flat.\n",
    "#Kurtosis value for distance is 0.405 which suggests a distribution that is moderately peaked  .\n"
   ]
  },
  {
   "cell_type": "code",
   "execution_count": 54,
   "id": "4866c8d2",
   "metadata": {},
   "outputs": [
    {
     "name": "stdout",
     "output_type": "stream",
     "text": [
      "skewness_SP 1.6114501961773586\n",
      "kurtosis_SP 2.9773289437871835\n",
      "skewness_WT -0.6147533255357768\n",
      "kurtosis_WT 0.9502914910300326\n"
     ]
    }
   ],
   "source": [
    "\"\"\"\n",
    "SP and Weight(WT)\n",
    "Use Q9_b.csv\n",
    "\n",
    "\"\"\"\n",
    "data2=pd.read_csv(r'D:\\ExcelR\\Data science\\Assignments\\Assignment1\\Q9_b.csv')\n",
    "data2\n",
    "skewness_SP=data2['SP'].skew()\n",
    "print('skewness_SP',skewness_SP)\n",
    "kurtosis_SP=data2['SP'].kurtosis()\n",
    "print('kurtosis_SP',kurtosis_SP)\n",
    "\n",
    "skewness_WT=data2['WT'].skew()\n",
    "print('skewness_WT',skewness_WT)\n",
    "kurtosis_WT=data2['WT'].kurtosis()\n",
    "print('kurtosis_WT',kurtosis_WT)\n",
    "\n",
    "#SP is highly skewed and WT is moderately skewed.\n",
    "#SP is peaked and WT is distribution is peaked and possesses slight heavier tails.\n",
    "\n"
   ]
  },
  {
   "cell_type": "markdown",
   "id": "d5779176",
   "metadata": {},
   "source": [
    "# Q10) Draw inferences about the following boxplot & histogram\n",
    "\n",
    " \n",
    "Ans: From  above histogram we can conclude that data is positively/ right skewed.\n",
    "Ans: From above  boxplot, we get to see that there are outliers present at right side.\n"
   ]
  },
  {
   "cell_type": "code",
   "execution_count": 3,
   "id": "25319eb8",
   "metadata": {},
   "outputs": [
    {
     "name": "stdout",
     "output_type": "stream",
     "text": [
      "94% confidence interval :  (198.738325292158, 201.261674707842)\n",
      "98% confidence interval :  (198.43943840429978, 201.56056159570022)\n",
      "96% confidence interval :  (198.62230334813333, 201.37769665186667)\n"
     ]
    }
   ],
   "source": [
    "\"\"\"\n",
    "Q11)  Suppose we want to estimate the average weight of an adult male in Mexico. \n",
    "We draw a random sample of 2,000 men from a population of 3,000,000 men and weigh them. \n",
    "We find that the average person in our sample weighs 200 pounds, and the standard deviation of the sample is 30 pounds. \n",
    "Calculate 94%,98%,96% confidence interval?\n",
    "\"\"\"\n",
    "from scipy import stats\n",
    "import numpy as np\n",
    "\n",
    "n=2000\n",
    "mean=200\n",
    "sd=30\n",
    "\n",
    "#94% C.I.\n",
    "print('94% confidence interval : ',stats.norm.interval(0.94,mean,sd/np.sqrt(n)))\n",
    "\n",
    "#98% C.I.\n",
    "print('98% confidence interval : ',stats.norm.interval(0.98,mean,sd/np.sqrt(n)))\n",
    "\n",
    "#96% C.I.\n",
    "print('96% confidence interval : ',stats.norm.interval(0.96,mean,sd/np.sqrt(n)))"
   ]
  },
  {
   "cell_type": "code",
   "execution_count": 29,
   "id": "9f0c3728",
   "metadata": {},
   "outputs": [
    {
     "name": "stdout",
     "output_type": "stream",
     "text": [
      "('mean is : ', 41.0)\n",
      "('median is : ', 40.5)\n",
      "('variance is : ', 24.11111111111111)\n",
      "('std dev is : ', 4.910306620885412)\n"
     ]
    }
   ],
   "source": [
    "\"\"\"\n",
    "Q12)  Below are the scores obtained by a student in tests \n",
    "34,36,36,38,38,39,39,40,40,41,41,41,41,42,42,45,49,56\n",
    "1)\tFind mean, median, variance, standard deviation.\n",
    "\"\"\"\n",
    "\n",
    "stud_score=(34,36,36,38,38,39,39,40,40,41,41,41,41,42,42,45,49,56)\n",
    "stud_score\n",
    "mean=('mean is : ',np.mean(stud_score))\n",
    "print(mean)\n",
    "median=('median is : ',np.median(stud_score))\n",
    "print(median)\n",
    "var=('variance is : ',np.var(stud_score))\n",
    "print(var)\n",
    "sd=('std dev is : ',np.std(stud_score))\n",
    "print(sd)\n",
    "\n",
    "\n",
    "\n",
    "\n",
    "#2)\tWhat can we say about the student marks? \n",
    "#Ans: On an average students are having 41 marks \n",
    "\n"
   ]
  },
  {
   "cell_type": "markdown",
   "id": "49817015",
   "metadata": {},
   "source": [
    "# Q13) What is the nature of skewness when mean, median of data are equal?\n",
    "Ans:  When mean=median , we can say that data is normally distributed or symmetric in nature.\n",
    "\n"
   ]
  },
  {
   "cell_type": "markdown",
   "id": "afcb4b5a",
   "metadata": {},
   "source": [
    "# Q14) What is the nature of skewness when mean > median ?\n",
    "Ans:  It is said that distribution is right/positively skewed.\n"
   ]
  },
  {
   "cell_type": "markdown",
   "id": "210f15ef",
   "metadata": {},
   "source": [
    "# Q15) What is the nature of skewness when median > mean?\n",
    "Ans: It is said that distribution is left/negatively skewed.\n"
   ]
  },
  {
   "cell_type": "markdown",
   "id": "7767baef",
   "metadata": {},
   "source": [
    "# Q16) What does positive kurtosis value indicates for a data ?\n",
    "Ans:  Positive kurtosis indicates that there are more extreme values in the distribution than would be expected in a normal distribution."
   ]
  },
  {
   "cell_type": "markdown",
   "id": "81983f7f",
   "metadata": {},
   "source": [
    "# Q17) What does negative kurtosis value indicates for a data?\n",
    "Ans: Negative kurtosis indicates that there are fewer extreme values in the distribution than would be expected in a normal distribution.\n"
   ]
  },
  {
   "cell_type": "code",
   "execution_count": null,
   "id": "5e550ce5",
   "metadata": {},
   "outputs": [],
   "source": [
    "\"\"\"\n",
    "Q18) Answer the below questions using the below boxplot visualization.\n",
    " \n",
    "What can we say about the distribution of the data?\n",
    "Ans:  Asymmetric distribution \n",
    "What is nature of skewness of the data?\n",
    "Ans:  Negatively/ left skewed.\n",
    "Ans: It is negatively skewed.\n",
    "What will be the IQR of the data (approximately)? \n",
    "Ans: IQR = Q3 – Q1 = 18-10 = 8\n",
    "\"\"\"\n"
   ]
  },
  {
   "cell_type": "markdown",
   "id": "abcb2f08",
   "metadata": {},
   "source": [
    "# Q19) Comment on the below Boxplot visualizations? \n",
    "Draw an Inference from the distribution of data for Boxplot 1 with respect Boxplot 2.\n",
    "Ans:Data points of boxplot 1 ranges from 230 to 280 and of boxplot ranges from 190 to 335 approx. Median is same for both boxplots. No outliers are present for boxplots.\n"
   ]
  },
  {
   "cell_type": "code",
   "execution_count": 29,
   "id": "85410b40",
   "metadata": {},
   "outputs": [
    {
     "name": "stdout",
     "output_type": "stream",
     "text": [
      "probability_greater_than_38 =  0.34669238536888103\n"
     ]
    }
   ],
   "source": [
    "# Q20) Calculate probability from the given dataset for the below cases\n",
    "import pandas as pd\n",
    "import numpy as np\n",
    "from scipy import stats\n",
    "\"\"\"\n",
    "Data _set: Cars.csv\n",
    "Calculate the probability of MPG  of Cars for the below cases.\n",
    "       MPG <- Cars$MPG\n",
    "a.\tP(MPG>38)\n",
    "\"\"\"\n",
    "data=pd.read_csv('D:\\ExcelR\\Data science\\Assignments\\Assignment1\\Cars.csv')\n",
    "data\n",
    "MPG=data['MPG']\n",
    "#pd.set_option('display.max_rows',None)\n",
    "#MPG=data['MPG']\n",
    "#pd.Series(MPG)\n",
    "\n",
    "#a=len(df[df['MPG']> 38])/len(MPG)\n",
    "probability_greater_than_38 = 1 - stats.norm.cdf(38, loc=np.mean(MPG), scale=np.std(MPG))\n",
    "print('probability_greater_than_38 = ',probability_greater_than_38)\n",
    "\n",
    "\n",
    "\n"
   ]
  },
  {
   "cell_type": "code",
   "execution_count": 31,
   "id": "6e11a832",
   "metadata": {
    "scrolled": true
   },
   "outputs": [
    {
     "name": "stdout",
     "output_type": "stream",
     "text": [
      "probability_less_than_40 =  0.7306083416219199\n"
     ]
    }
   ],
   "source": [
    "# b.\tP(MPG<40)\n",
    "#b=len(df[df['MPG']< 40])/len(MPG)\n",
    "probability_less_than_40 =stats.norm.cdf(40, loc=np.mean(MPG), scale=np.std(MPG))\n",
    "print('probability_less_than_40 = ',probability_less_than_40)\n"
   ]
  },
  {
   "cell_type": "code",
   "execution_count": 36,
   "id": "ce6673de",
   "metadata": {},
   "outputs": [
    {
     "name": "stdout",
     "output_type": "stream",
     "text": [
      "probability_less_than_50 & greater_than_20 =  0.9009686820346051\n"
     ]
    }
   ],
   "source": [
    "#c.\tP (20<MPG<50)\n",
    "prob =stats.norm.cdf(50, loc=np.mean(MPG), scale=np.std(MPG))-stats.norm.cdf(20, loc=np.mean(MPG), scale=np.std(MPG))\n",
    "print('probability_less_than_50 & greater_than_20 = ',prob)"
   ]
  },
  {
   "cell_type": "code",
   "execution_count": 58,
   "id": "5c9f7015",
   "metadata": {},
   "outputs": [
    {
     "data": {
      "text/plain": [
       "(array([ 1.,  6., 10.,  4., 10., 15., 17.,  8.,  5.,  5.]),\n",
       " array([12.10126289, 16.26120474, 20.42114659, 24.58108844, 28.74103029,\n",
       "        32.90097213, 37.06091398, 41.22085583, 45.38079768, 49.54073953,\n",
       "        53.70068138]),\n",
       " <BarContainer object of 10 artists>)"
      ]
     },
     "execution_count": 58,
     "metadata": {},
     "output_type": "execute_result"
    },
    {
     "data": {
      "image/png": "[encoded data removed]",
      "text/plain": [
       "<Figure size 640x480 with 1 Axes>"
      ]
     },
     "metadata": {},
     "output_type": "display_data"
    }
   ],
   "source": [
    "\"\"\"\n",
    "Q 21) Check whether the data follows normal distribution\n",
    "a)\tCheck whether the MPG of Cars follows Normal Distribution \n",
    "        Dataset: Cars.csv\n",
    "\"\"\"\n",
    "import pandas as pd\n",
    "import matplotlib.pyplot as plt\n",
    "dataset=pd.read_csv('D:\\ExcelR\\Data science\\Assignments\\Assignment1\\Cars.csv')\n",
    "dataset\n",
    "\n",
    "plt.hist(dataset['MPG'])\n",
    "#Ans: plt.hist(dataset['MPG']) From histogram got to see that it is negatively skewed.\n"
   ]
  },
  {
   "cell_type": "code",
   "execution_count": 56,
   "id": "ab637f91",
   "metadata": {},
   "outputs": [
    {
     "data": {
      "text/plain": [
       "(array([14., 18., 16., 13., 17., 14.,  4.,  6.,  3.,  4.]),\n",
       " array([ 11.44 ,  35.596,  59.752,  83.908, 108.064, 132.22 , 156.376,\n",
       "        180.532, 204.688, 228.844, 253.   ]),\n",
       " <BarContainer object of 10 artists>)"
      ]
     },
     "execution_count": 56,
     "metadata": {},
     "output_type": "execute_result"
    },
    {
     "data": {
      "image/png": "[encoded data removed]",
      "text/plain": [
       "<Figure size 640x480 with 1 Axes>"
      ]
     },
     "metadata": {},
     "output_type": "display_data"
    }
   ],
   "source": [
    "\"\"\"b)\tCheck Whether the Adipose Tissue (AT) and Waist Circumference(Waist)  from wc-at data set  follows Normal Distribution \n",
    "   Dataset: wc-at.csv\n",
    "\"\"\"\n",
    "data=pd.read_csv('D:\\ExcelR\\Data science\\Assignments\\Assignment1\\wc-at.csv')\n",
    "data\n",
    "plt.hist(data['AT'])\n",
    "\n",
    "\n",
    "#Ans:  From histogram got to see that AT is positively skewed.\n"
   ]
  },
  {
   "cell_type": "code",
   "execution_count": 57,
   "id": "2b89eb4d",
   "metadata": {},
   "outputs": [
    {
     "data": {
      "text/plain": [
       "(array([ 2.,  9., 19., 17., 11.,  9., 13., 21.,  5.,  3.]),\n",
       " array([ 63.5 ,  69.25,  75.  ,  80.75,  86.5 ,  92.25,  98.  , 103.75,\n",
       "        109.5 , 115.25, 121.  ]),\n",
       " <BarContainer object of 10 artists>)"
      ]
     },
     "execution_count": 57,
     "metadata": {},
     "output_type": "execute_result"
    },
    {
     "data": {
      "image/png": "[encoded data removed]",
      "text/plain": [
       "<Figure size 640x480 with 1 Axes>"
      ]
     },
     "metadata": {},
     "output_type": "display_data"
    }
   ],
   "source": [
    "plt.hist(data['Waist'])\n",
    "\n",
    "#Waist is normally distributed."
   ]
  },
  {
   "cell_type": "code",
   "execution_count": 62,
   "id": "46a57535",
   "metadata": {},
   "outputs": [
    {
     "name": "stdout",
     "output_type": "stream",
     "text": [
      "Z score of 90% C.I. is:  1.6448536269514722\n",
      "Z score of 94% C.I. is:  1.8807936081512509\n",
      "Z score of 60% C.I. is:  0.8416212335729143\n"
     ]
    }
   ],
   "source": [
    "#Q 22) Calculate the Z scores of  90% confidence interval,94% confidence interval, 60% confidence interval \n",
    "print('Z score of 90% C.I. is: ',stats.norm.ppf(0.95))\n",
    "print('Z score of 94% C.I. is: ',stats.norm.ppf(0.97))\n",
    "print('Z score of 60% C.I. is: ',stats.norm.ppf(0.80))"
   ]
  },
  {
   "cell_type": "code",
   "execution_count": 64,
   "id": "9db4a9f0",
   "metadata": {},
   "outputs": [
    {
     "name": "stdout",
     "output_type": "stream",
     "text": [
      "t score of 95% C.I. is:  2.0638985616280205\n",
      "t score of 96% C.I. is:  2.1715446760080677\n",
      "t score of 99% C.I. is:  2.796939504772804\n"
     ]
    }
   ],
   "source": [
    "#Q 23) Calculate the t scores of 95% confidence interval, 96% confidence interval, 99% confidence interval for sample size of 25\n",
    "print('t score of 95% C.I. is: ',stats.t.ppf(0.975,24))\n",
    "print('t score of 96% C.I. is: ',stats.t.ppf(0.98,24))\n",
    "print('t score of 99% C.I. is: ',stats.t.ppf(0.995,24))\n",
    "\n"
   ]
  },
  {
   "cell_type": "code",
   "execution_count": 70,
   "id": "53994e75",
   "metadata": {},
   "outputs": [
    {
     "name": "stdout",
     "output_type": "stream",
     "text": [
      "probability that 18 randomly selected bulbs would have an average life of no more than 260 days is  0.32167253567098364\n"
     ]
    }
   ],
   "source": [
    "\"\"\"Q 24)A Government company claims that an average light bulb lasts 270 days. A researcher randomly selects 18 bulbs for \n",
    "testing. The sampled bulbs last an average of 260 days, with a standard deviation of90 days. If the CEO's claim were true, \n",
    "what is the probability that 18 randomly selected bulbs would have an average life of no more than 260 days.\n",
    "Hint:  \n",
    "rcode:pt(tscore,df)  \n",
    "df:degrees of freedom\n",
    "\"\"\"\n",
    "sample_mean= 260\n",
    "population_mean= 270\n",
    "sample_sd = 90\n",
    "sample_size = 18\n",
    "df=17\n",
    "\n",
    "t_statistic = (sample_mean - population_mean) / (sample_sd / (sample_size ** 0.5))\n",
    "\n",
    "prob=stats.t.cdf(t_statistic,df)\n",
    "print('probability that 18 randomly selected bulbs would have an average life of no more than 260 days is ',prob)\n"
   ]
  }
 ],
 "metadata": {
  "kernelspec": {
   "display_name": "Python 3 (ipykernel)",
   "language": "python",
   "name": "python3"
  },
  "language_info": {
   "codemirror_mode": {
    "name": "ipython",
    "version": 3
   },
   "file_extension": ".py",
   "mimetype": "text/x-python",
   "name": "python",
   "nbconvert_exporter": "python",
   "pygments_lexer": "ipython3",
   "version": "3.9.13"
  }
 },
 "nbformat": 4,
 "nbformat_minor": 5
}
